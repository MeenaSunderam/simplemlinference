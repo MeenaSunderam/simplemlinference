{
 "cells": [
  {
   "cell_type": "code",
   "execution_count": 1,
   "id": "9f7ed66c",
   "metadata": {
    "execution": {
     "iopub.execute_input": "2022-02-13T20:58:16.241272Z",
     "iopub.status.busy": "2022-02-13T20:58:16.239562Z",
     "iopub.status.idle": "2022-02-13T20:58:17.174219Z",
     "shell.execute_reply": "2022-02-13T20:58:17.174972Z",
     "shell.execute_reply.started": "2022-02-13T20:57:46.171711Z"
    },
    "papermill": {
     "duration": 0.96332,
     "end_time": "2022-02-13T20:58:17.175322",
     "exception": false,
     "start_time": "2022-02-13T20:58:16.212002",
     "status": "completed"
    },
    "tags": []
   },
   "outputs": [],
   "source": [
    "import numpy as np\n",
    "import pandas as pd\n",
    "import matplotlib.pyplot as plt\n",
    "import seaborn as sns"
   ]
  },
  {
   "cell_type": "code",
   "execution_count": 2,
   "id": "df7fdd93",
   "metadata": {
    "execution": {
     "iopub.execute_input": "2022-02-13T20:58:17.228682Z",
     "iopub.status.busy": "2022-02-13T20:58:17.226967Z",
     "iopub.status.idle": "2022-02-13T20:58:17.252931Z",
     "shell.execute_reply": "2022-02-13T20:58:17.253424Z",
     "shell.execute_reply.started": "2022-02-13T20:57:46.179444Z"
    },
    "papermill": {
     "duration": 0.052346,
     "end_time": "2022-02-13T20:58:17.253566",
     "exception": false,
     "start_time": "2022-02-13T20:58:17.201220",
     "status": "completed"
    },
    "tags": []
   },
   "outputs": [],
   "source": [
    "data=pd.read_csv('../data/titanic.csv')"
   ]
  },
  {
   "cell_type": "code",
   "execution_count": 3,
   "id": "a2113370",
   "metadata": {
    "execution": {
     "iopub.execute_input": "2022-02-13T20:58:17.358860Z",
     "iopub.status.busy": "2022-02-13T20:58:17.358329Z",
     "iopub.status.idle": "2022-02-13T20:58:17.381228Z",
     "shell.execute_reply": "2022-02-13T20:58:17.381630Z",
     "shell.execute_reply.started": "2022-02-13T20:57:46.228113Z"
    },
    "papermill": {
     "duration": 0.047364,
     "end_time": "2022-02-13T20:58:17.381768",
     "exception": false,
     "start_time": "2022-02-13T20:58:17.334404",
     "status": "completed"
    },
    "scrolled": true,
    "tags": []
   },
   "outputs": [
    {
     "data": {
      "text/html": [
       "<div>\n",
       "<style scoped>\n",
       "    .dataframe tbody tr th:only-of-type {\n",
       "        vertical-align: middle;\n",
       "    }\n",
       "\n",
       "    .dataframe tbody tr th {\n",
       "        vertical-align: top;\n",
       "    }\n",
       "\n",
       "    .dataframe thead th {\n",
       "        text-align: right;\n",
       "    }\n",
       "</style>\n",
       "<table border=\"1\" class=\"dataframe\">\n",
       "  <thead>\n",
       "    <tr style=\"text-align: right;\">\n",
       "      <th></th>\n",
       "      <th>Survived</th>\n",
       "      <th>Pclass</th>\n",
       "      <th>Name</th>\n",
       "      <th>Sex</th>\n",
       "      <th>Age</th>\n",
       "      <th>Siblings/Spouses Aboard</th>\n",
       "      <th>Parents/Children Aboard</th>\n",
       "      <th>Fare</th>\n",
       "    </tr>\n",
       "  </thead>\n",
       "  <tbody>\n",
       "    <tr>\n",
       "      <th>0</th>\n",
       "      <td>0</td>\n",
       "      <td>3</td>\n",
       "      <td>Mr. Owen Harris Braund</td>\n",
       "      <td>male</td>\n",
       "      <td>22.0</td>\n",
       "      <td>1</td>\n",
       "      <td>0</td>\n",
       "      <td>7.2500</td>\n",
       "    </tr>\n",
       "    <tr>\n",
       "      <th>1</th>\n",
       "      <td>1</td>\n",
       "      <td>1</td>\n",
       "      <td>Mrs. John Bradley (Florence Briggs Thayer) Cum...</td>\n",
       "      <td>female</td>\n",
       "      <td>38.0</td>\n",
       "      <td>1</td>\n",
       "      <td>0</td>\n",
       "      <td>71.2833</td>\n",
       "    </tr>\n",
       "    <tr>\n",
       "      <th>2</th>\n",
       "      <td>1</td>\n",
       "      <td>3</td>\n",
       "      <td>Miss. Laina Heikkinen</td>\n",
       "      <td>female</td>\n",
       "      <td>26.0</td>\n",
       "      <td>0</td>\n",
       "      <td>0</td>\n",
       "      <td>7.9250</td>\n",
       "    </tr>\n",
       "    <tr>\n",
       "      <th>3</th>\n",
       "      <td>1</td>\n",
       "      <td>1</td>\n",
       "      <td>Mrs. Jacques Heath (Lily May Peel) Futrelle</td>\n",
       "      <td>female</td>\n",
       "      <td>35.0</td>\n",
       "      <td>1</td>\n",
       "      <td>0</td>\n",
       "      <td>53.1000</td>\n",
       "    </tr>\n",
       "    <tr>\n",
       "      <th>4</th>\n",
       "      <td>0</td>\n",
       "      <td>3</td>\n",
       "      <td>Mr. William Henry Allen</td>\n",
       "      <td>male</td>\n",
       "      <td>35.0</td>\n",
       "      <td>0</td>\n",
       "      <td>0</td>\n",
       "      <td>8.0500</td>\n",
       "    </tr>\n",
       "    <tr>\n",
       "      <th>...</th>\n",
       "      <td>...</td>\n",
       "      <td>...</td>\n",
       "      <td>...</td>\n",
       "      <td>...</td>\n",
       "      <td>...</td>\n",
       "      <td>...</td>\n",
       "      <td>...</td>\n",
       "      <td>...</td>\n",
       "    </tr>\n",
       "    <tr>\n",
       "      <th>882</th>\n",
       "      <td>0</td>\n",
       "      <td>2</td>\n",
       "      <td>Rev. Juozas Montvila</td>\n",
       "      <td>male</td>\n",
       "      <td>27.0</td>\n",
       "      <td>0</td>\n",
       "      <td>0</td>\n",
       "      <td>13.0000</td>\n",
       "    </tr>\n",
       "    <tr>\n",
       "      <th>883</th>\n",
       "      <td>1</td>\n",
       "      <td>1</td>\n",
       "      <td>Miss. Margaret Edith Graham</td>\n",
       "      <td>female</td>\n",
       "      <td>19.0</td>\n",
       "      <td>0</td>\n",
       "      <td>0</td>\n",
       "      <td>30.0000</td>\n",
       "    </tr>\n",
       "    <tr>\n",
       "      <th>884</th>\n",
       "      <td>0</td>\n",
       "      <td>3</td>\n",
       "      <td>Miss. Catherine Helen Johnston</td>\n",
       "      <td>female</td>\n",
       "      <td>7.0</td>\n",
       "      <td>1</td>\n",
       "      <td>2</td>\n",
       "      <td>23.4500</td>\n",
       "    </tr>\n",
       "    <tr>\n",
       "      <th>885</th>\n",
       "      <td>1</td>\n",
       "      <td>1</td>\n",
       "      <td>Mr. Karl Howell Behr</td>\n",
       "      <td>male</td>\n",
       "      <td>26.0</td>\n",
       "      <td>0</td>\n",
       "      <td>0</td>\n",
       "      <td>30.0000</td>\n",
       "    </tr>\n",
       "    <tr>\n",
       "      <th>886</th>\n",
       "      <td>0</td>\n",
       "      <td>3</td>\n",
       "      <td>Mr. Patrick Dooley</td>\n",
       "      <td>male</td>\n",
       "      <td>32.0</td>\n",
       "      <td>0</td>\n",
       "      <td>0</td>\n",
       "      <td>7.7500</td>\n",
       "    </tr>\n",
       "  </tbody>\n",
       "</table>\n",
       "<p>887 rows × 8 columns</p>\n",
       "</div>"
      ],
      "text/plain": [
       "     Survived  Pclass                                               Name  \\\n",
       "0           0       3                             Mr. Owen Harris Braund   \n",
       "1           1       1  Mrs. John Bradley (Florence Briggs Thayer) Cum...   \n",
       "2           1       3                              Miss. Laina Heikkinen   \n",
       "3           1       1        Mrs. Jacques Heath (Lily May Peel) Futrelle   \n",
       "4           0       3                            Mr. William Henry Allen   \n",
       "..        ...     ...                                                ...   \n",
       "882         0       2                               Rev. Juozas Montvila   \n",
       "883         1       1                        Miss. Margaret Edith Graham   \n",
       "884         0       3                     Miss. Catherine Helen Johnston   \n",
       "885         1       1                               Mr. Karl Howell Behr   \n",
       "886         0       3                                 Mr. Patrick Dooley   \n",
       "\n",
       "        Sex   Age  Siblings/Spouses Aboard  Parents/Children Aboard     Fare  \n",
       "0      male  22.0                        1                        0   7.2500  \n",
       "1    female  38.0                        1                        0  71.2833  \n",
       "2    female  26.0                        0                        0   7.9250  \n",
       "3    female  35.0                        1                        0  53.1000  \n",
       "4      male  35.0                        0                        0   8.0500  \n",
       "..      ...   ...                      ...                      ...      ...  \n",
       "882    male  27.0                        0                        0  13.0000  \n",
       "883  female  19.0                        0                        0  30.0000  \n",
       "884  female   7.0                        1                        2  23.4500  \n",
       "885    male  26.0                        0                        0  30.0000  \n",
       "886    male  32.0                        0                        0   7.7500  \n",
       "\n",
       "[887 rows x 8 columns]"
      ]
     },
     "execution_count": 3,
     "metadata": {},
     "output_type": "execute_result"
    }
   ],
   "source": [
    "data"
   ]
  },
  {
   "cell_type": "code",
   "execution_count": 4,
   "id": "f5470e80",
   "metadata": {
    "execution": {
     "iopub.execute_input": "2022-02-13T20:58:17.430059Z",
     "iopub.status.busy": "2022-02-13T20:58:17.429542Z",
     "iopub.status.idle": "2022-02-13T20:58:17.435088Z",
     "shell.execute_reply": "2022-02-13T20:58:17.435602Z",
     "shell.execute_reply.started": "2022-02-13T20:57:46.263561Z"
    },
    "papermill": {
     "duration": 0.031093,
     "end_time": "2022-02-13T20:58:17.435756",
     "exception": false,
     "start_time": "2022-02-13T20:58:17.404663",
     "status": "completed"
    },
    "tags": []
   },
   "outputs": [],
   "source": [
    "data.drop(labels=['Name'],axis=1,inplace=True)"
   ]
  },
  {
   "cell_type": "code",
   "execution_count": 5,
   "id": "00b9e017",
   "metadata": {
    "execution": {
     "iopub.execute_input": "2022-02-13T20:58:17.491819Z",
     "iopub.status.busy": "2022-02-13T20:58:17.491275Z",
     "iopub.status.idle": "2022-02-13T20:58:17.507321Z",
     "shell.execute_reply": "2022-02-13T20:58:17.507945Z",
     "shell.execute_reply.started": "2022-02-13T20:57:46.271987Z"
    },
    "papermill": {
     "duration": 0.047633,
     "end_time": "2022-02-13T20:58:17.508117",
     "exception": false,
     "start_time": "2022-02-13T20:58:17.460484",
     "status": "completed"
    },
    "tags": []
   },
   "outputs": [
    {
     "name": "stdout",
     "output_type": "stream",
     "text": [
      "<class 'pandas.core.frame.DataFrame'>\n",
      "RangeIndex: 887 entries, 0 to 886\n",
      "Data columns (total 7 columns):\n",
      " #   Column                   Non-Null Count  Dtype  \n",
      "---  ------                   --------------  -----  \n",
      " 0   Survived                 887 non-null    int64  \n",
      " 1   Pclass                   887 non-null    int64  \n",
      " 2   Sex                      887 non-null    object \n",
      " 3   Age                      887 non-null    float64\n",
      " 4   Siblings/Spouses Aboard  887 non-null    int64  \n",
      " 5   Parents/Children Aboard  887 non-null    int64  \n",
      " 6   Fare                     887 non-null    float64\n",
      "dtypes: float64(2), int64(4), object(1)\n",
      "memory usage: 48.6+ KB\n"
     ]
    }
   ],
   "source": [
    "data.info()"
   ]
  },
  {
   "cell_type": "code",
   "execution_count": 6,
   "id": "d8cf994e",
   "metadata": {
    "execution": {
     "iopub.execute_input": "2022-02-13T20:58:17.560182Z",
     "iopub.status.busy": "2022-02-13T20:58:17.559677Z",
     "iopub.status.idle": "2022-02-13T20:58:17.566515Z",
     "shell.execute_reply": "2022-02-13T20:58:17.567023Z",
     "shell.execute_reply.started": "2022-02-13T20:57:46.292002Z"
    },
    "papermill": {
     "duration": 0.033457,
     "end_time": "2022-02-13T20:58:17.567144",
     "exception": false,
     "start_time": "2022-02-13T20:58:17.533687",
     "status": "completed"
    },
    "scrolled": true,
    "tags": []
   },
   "outputs": [
    {
     "data": {
      "text/plain": [
       "Survived                   0.0\n",
       "Pclass                     0.0\n",
       "Sex                        0.0\n",
       "Age                        0.0\n",
       "Siblings/Spouses Aboard    0.0\n",
       "Parents/Children Aboard    0.0\n",
       "Fare                       0.0\n",
       "dtype: float64"
      ]
     },
     "execution_count": 6,
     "metadata": {},
     "output_type": "execute_result"
    }
   ],
   "source": [
    "data.isnull().sum().sort_values()/len(data)"
   ]
  },
  {
   "cell_type": "code",
   "execution_count": 7,
   "id": "8efb9f7e",
   "metadata": {
    "execution": {
     "iopub.execute_input": "2022-02-13T20:58:17.672746Z",
     "iopub.status.busy": "2022-02-13T20:58:17.672135Z",
     "iopub.status.idle": "2022-02-13T20:58:17.675587Z",
     "shell.execute_reply": "2022-02-13T20:58:17.676079Z",
     "shell.execute_reply.started": "2022-02-13T20:57:46.320374Z"
    },
    "papermill": {
     "duration": 0.031888,
     "end_time": "2022-02-13T20:58:17.676212",
     "exception": false,
     "start_time": "2022-02-13T20:58:17.644324",
     "status": "completed"
    },
    "tags": []
   },
   "outputs": [],
   "source": [
    "Fare_mean=data['Fare'].mean()"
   ]
  },
  {
   "cell_type": "code",
   "execution_count": 8,
   "id": "04fd4ce1",
   "metadata": {
    "execution": {
     "iopub.execute_input": "2022-02-13T20:58:17.778758Z",
     "iopub.status.busy": "2022-02-13T20:58:17.778235Z",
     "iopub.status.idle": "2022-02-13T20:58:17.781145Z",
     "shell.execute_reply": "2022-02-13T20:58:17.781596Z",
     "shell.execute_reply.started": "2022-02-13T20:57:46.343587Z"
    },
    "papermill": {
     "duration": 0.028944,
     "end_time": "2022-02-13T20:58:17.781746",
     "exception": false,
     "start_time": "2022-02-13T20:58:17.752802",
     "status": "completed"
    },
    "tags": []
   },
   "outputs": [],
   "source": [
    "Age_mean=data['Age'].mean()"
   ]
  },
  {
   "cell_type": "code",
   "execution_count": 9,
   "id": "e0250bb5",
   "metadata": {
    "execution": {
     "iopub.execute_input": "2022-02-13T20:58:17.832835Z",
     "iopub.status.busy": "2022-02-13T20:58:17.832250Z",
     "iopub.status.idle": "2022-02-13T20:58:17.833969Z",
     "shell.execute_reply": "2022-02-13T20:58:17.834370Z",
     "shell.execute_reply.started": "2022-02-13T20:57:46.357026Z"
    },
    "papermill": {
     "duration": 0.029012,
     "end_time": "2022-02-13T20:58:17.834490",
     "exception": false,
     "start_time": "2022-02-13T20:58:17.805478",
     "status": "completed"
    },
    "tags": []
   },
   "outputs": [],
   "source": [
    "data['Fare'].fillna(Fare_mean,inplace=True)"
   ]
  },
  {
   "cell_type": "code",
   "execution_count": 10,
   "id": "e0db0f34",
   "metadata": {
    "execution": {
     "iopub.execute_input": "2022-02-13T20:58:17.941449Z",
     "iopub.status.busy": "2022-02-13T20:58:17.940629Z",
     "iopub.status.idle": "2022-02-13T20:58:17.944526Z",
     "shell.execute_reply": "2022-02-13T20:58:17.945194Z",
     "shell.execute_reply.started": "2022-02-13T20:57:46.377840Z"
    },
    "papermill": {
     "duration": 0.03093,
     "end_time": "2022-02-13T20:58:17.945340",
     "exception": false,
     "start_time": "2022-02-13T20:58:17.914410",
     "status": "completed"
    },
    "scrolled": true,
    "tags": []
   },
   "outputs": [],
   "source": [
    "data['Age'].fillna(Age_mean,inplace=True)"
   ]
  },
  {
   "cell_type": "code",
   "execution_count": 11,
   "id": "866c5cd6",
   "metadata": {
    "execution": {
     "iopub.execute_input": "2022-02-13T20:58:17.997366Z",
     "iopub.status.busy": "2022-02-13T20:58:17.996569Z",
     "iopub.status.idle": "2022-02-13T20:58:18.003940Z",
     "shell.execute_reply": "2022-02-13T20:58:18.004395Z",
     "shell.execute_reply.started": "2022-02-13T20:57:46.386631Z"
    },
    "papermill": {
     "duration": 0.034995,
     "end_time": "2022-02-13T20:58:18.004520",
     "exception": false,
     "start_time": "2022-02-13T20:58:17.969525",
     "status": "completed"
    },
    "scrolled": true,
    "tags": []
   },
   "outputs": [
    {
     "data": {
      "text/plain": [
       "Survived                   0.0\n",
       "Pclass                     0.0\n",
       "Sex                        0.0\n",
       "Age                        0.0\n",
       "Siblings/Spouses Aboard    0.0\n",
       "Parents/Children Aboard    0.0\n",
       "Fare                       0.0\n",
       "dtype: float64"
      ]
     },
     "execution_count": 11,
     "metadata": {},
     "output_type": "execute_result"
    }
   ],
   "source": [
    "data.isnull().sum().sort_values()/len(data)"
   ]
  },
  {
   "cell_type": "code",
   "execution_count": 12,
   "id": "e52c37e3",
   "metadata": {
    "execution": {
     "iopub.execute_input": "2022-02-13T20:58:18.056796Z",
     "iopub.status.busy": "2022-02-13T20:58:18.055965Z",
     "iopub.status.idle": "2022-02-13T20:58:18.061400Z",
     "shell.execute_reply": "2022-02-13T20:58:18.061932Z",
     "shell.execute_reply.started": "2022-02-13T20:57:46.402467Z"
    },
    "papermill": {
     "duration": 0.033583,
     "end_time": "2022-02-13T20:58:18.062080",
     "exception": false,
     "start_time": "2022-02-13T20:58:18.028497",
     "status": "completed"
    },
    "tags": []
   },
   "outputs": [],
   "source": [
    "data_obj=data.select_dtypes(include=object)\n",
    "data_num=data.select_dtypes(exclude=object)"
   ]
  },
  {
   "cell_type": "code",
   "execution_count": 13,
   "id": "59310a3d",
   "metadata": {
    "execution": {
     "iopub.execute_input": "2022-02-13T20:58:18.112631Z",
     "iopub.status.busy": "2022-02-13T20:58:18.111801Z",
     "iopub.status.idle": "2022-02-13T20:58:18.119606Z",
     "shell.execute_reply": "2022-02-13T20:58:18.120071Z",
     "shell.execute_reply.started": "2022-02-13T20:57:46.414848Z"
    },
    "papermill": {
     "duration": 0.034508,
     "end_time": "2022-02-13T20:58:18.120206",
     "exception": false,
     "start_time": "2022-02-13T20:58:18.085698",
     "status": "completed"
    },
    "tags": []
   },
   "outputs": [],
   "source": [
    "data_obj=pd.get_dummies(data_obj,drop_first=True)"
   ]
  },
  {
   "cell_type": "code",
   "execution_count": 14,
   "id": "feb15c15",
   "metadata": {
    "execution": {
     "iopub.execute_input": "2022-02-13T20:58:18.177452Z",
     "iopub.status.busy": "2022-02-13T20:58:18.176790Z",
     "iopub.status.idle": "2022-02-13T20:58:18.179691Z",
     "shell.execute_reply": "2022-02-13T20:58:18.179290Z",
     "shell.execute_reply.started": "2022-02-13T20:57:46.428380Z"
    },
    "papermill": {
     "duration": 0.035895,
     "end_time": "2022-02-13T20:58:18.179812",
     "exception": false,
     "start_time": "2022-02-13T20:58:18.143917",
     "status": "completed"
    },
    "scrolled": true,
    "tags": []
   },
   "outputs": [
    {
     "data": {
      "text/html": [
       "<div>\n",
       "<style scoped>\n",
       "    .dataframe tbody tr th:only-of-type {\n",
       "        vertical-align: middle;\n",
       "    }\n",
       "\n",
       "    .dataframe tbody tr th {\n",
       "        vertical-align: top;\n",
       "    }\n",
       "\n",
       "    .dataframe thead th {\n",
       "        text-align: right;\n",
       "    }\n",
       "</style>\n",
       "<table border=\"1\" class=\"dataframe\">\n",
       "  <thead>\n",
       "    <tr style=\"text-align: right;\">\n",
       "      <th></th>\n",
       "      <th>Sex_male</th>\n",
       "    </tr>\n",
       "  </thead>\n",
       "  <tbody>\n",
       "    <tr>\n",
       "      <th>0</th>\n",
       "      <td>1</td>\n",
       "    </tr>\n",
       "    <tr>\n",
       "      <th>1</th>\n",
       "      <td>0</td>\n",
       "    </tr>\n",
       "    <tr>\n",
       "      <th>2</th>\n",
       "      <td>0</td>\n",
       "    </tr>\n",
       "    <tr>\n",
       "      <th>3</th>\n",
       "      <td>0</td>\n",
       "    </tr>\n",
       "    <tr>\n",
       "      <th>4</th>\n",
       "      <td>1</td>\n",
       "    </tr>\n",
       "    <tr>\n",
       "      <th>...</th>\n",
       "      <td>...</td>\n",
       "    </tr>\n",
       "    <tr>\n",
       "      <th>882</th>\n",
       "      <td>1</td>\n",
       "    </tr>\n",
       "    <tr>\n",
       "      <th>883</th>\n",
       "      <td>0</td>\n",
       "    </tr>\n",
       "    <tr>\n",
       "      <th>884</th>\n",
       "      <td>0</td>\n",
       "    </tr>\n",
       "    <tr>\n",
       "      <th>885</th>\n",
       "      <td>1</td>\n",
       "    </tr>\n",
       "    <tr>\n",
       "      <th>886</th>\n",
       "      <td>1</td>\n",
       "    </tr>\n",
       "  </tbody>\n",
       "</table>\n",
       "<p>887 rows × 1 columns</p>\n",
       "</div>"
      ],
      "text/plain": [
       "     Sex_male\n",
       "0           1\n",
       "1           0\n",
       "2           0\n",
       "3           0\n",
       "4           1\n",
       "..        ...\n",
       "882         1\n",
       "883         0\n",
       "884         0\n",
       "885         1\n",
       "886         1\n",
       "\n",
       "[887 rows x 1 columns]"
      ]
     },
     "execution_count": 14,
     "metadata": {},
     "output_type": "execute_result"
    }
   ],
   "source": [
    "data_obj"
   ]
  },
  {
   "cell_type": "code",
   "execution_count": 15,
   "id": "9b0389be",
   "metadata": {
    "execution": {
     "iopub.execute_input": "2022-02-13T20:58:18.234255Z",
     "iopub.status.busy": "2022-02-13T20:58:18.233620Z",
     "iopub.status.idle": "2022-02-13T20:58:18.235511Z",
     "shell.execute_reply": "2022-02-13T20:58:18.235957Z",
     "shell.execute_reply.started": "2022-02-13T20:57:46.446213Z"
    },
    "papermill": {
     "duration": 0.031087,
     "end_time": "2022-02-13T20:58:18.236101",
     "exception": false,
     "start_time": "2022-02-13T20:58:18.205014",
     "status": "completed"
    },
    "tags": []
   },
   "outputs": [],
   "source": [
    "f_data=pd.concat([data_obj,data_num],axis=1)"
   ]
  },
  {
   "cell_type": "code",
   "execution_count": 16,
   "id": "f5954bca",
   "metadata": {
    "execution": {
     "iopub.execute_input": "2022-02-13T20:58:18.289756Z",
     "iopub.status.busy": "2022-02-13T20:58:18.289202Z",
     "iopub.status.idle": "2022-02-13T20:58:18.300506Z",
     "shell.execute_reply": "2022-02-13T20:58:18.300998Z",
     "shell.execute_reply.started": "2022-02-13T20:57:46.458743Z"
    },
    "papermill": {
     "duration": 0.040852,
     "end_time": "2022-02-13T20:58:18.301134",
     "exception": false,
     "start_time": "2022-02-13T20:58:18.260282",
     "status": "completed"
    },
    "scrolled": true,
    "tags": []
   },
   "outputs": [
    {
     "data": {
      "text/html": [
       "<div>\n",
       "<style scoped>\n",
       "    .dataframe tbody tr th:only-of-type {\n",
       "        vertical-align: middle;\n",
       "    }\n",
       "\n",
       "    .dataframe tbody tr th {\n",
       "        vertical-align: top;\n",
       "    }\n",
       "\n",
       "    .dataframe thead th {\n",
       "        text-align: right;\n",
       "    }\n",
       "</style>\n",
       "<table border=\"1\" class=\"dataframe\">\n",
       "  <thead>\n",
       "    <tr style=\"text-align: right;\">\n",
       "      <th></th>\n",
       "      <th>Sex_male</th>\n",
       "      <th>Survived</th>\n",
       "      <th>Pclass</th>\n",
       "      <th>Age</th>\n",
       "      <th>Siblings/Spouses Aboard</th>\n",
       "      <th>Parents/Children Aboard</th>\n",
       "      <th>Fare</th>\n",
       "    </tr>\n",
       "  </thead>\n",
       "  <tbody>\n",
       "    <tr>\n",
       "      <th>0</th>\n",
       "      <td>1</td>\n",
       "      <td>0</td>\n",
       "      <td>3</td>\n",
       "      <td>22.0</td>\n",
       "      <td>1</td>\n",
       "      <td>0</td>\n",
       "      <td>7.2500</td>\n",
       "    </tr>\n",
       "    <tr>\n",
       "      <th>1</th>\n",
       "      <td>0</td>\n",
       "      <td>1</td>\n",
       "      <td>1</td>\n",
       "      <td>38.0</td>\n",
       "      <td>1</td>\n",
       "      <td>0</td>\n",
       "      <td>71.2833</td>\n",
       "    </tr>\n",
       "    <tr>\n",
       "      <th>2</th>\n",
       "      <td>0</td>\n",
       "      <td>1</td>\n",
       "      <td>3</td>\n",
       "      <td>26.0</td>\n",
       "      <td>0</td>\n",
       "      <td>0</td>\n",
       "      <td>7.9250</td>\n",
       "    </tr>\n",
       "    <tr>\n",
       "      <th>3</th>\n",
       "      <td>0</td>\n",
       "      <td>1</td>\n",
       "      <td>1</td>\n",
       "      <td>35.0</td>\n",
       "      <td>1</td>\n",
       "      <td>0</td>\n",
       "      <td>53.1000</td>\n",
       "    </tr>\n",
       "    <tr>\n",
       "      <th>4</th>\n",
       "      <td>1</td>\n",
       "      <td>0</td>\n",
       "      <td>3</td>\n",
       "      <td>35.0</td>\n",
       "      <td>0</td>\n",
       "      <td>0</td>\n",
       "      <td>8.0500</td>\n",
       "    </tr>\n",
       "    <tr>\n",
       "      <th>...</th>\n",
       "      <td>...</td>\n",
       "      <td>...</td>\n",
       "      <td>...</td>\n",
       "      <td>...</td>\n",
       "      <td>...</td>\n",
       "      <td>...</td>\n",
       "      <td>...</td>\n",
       "    </tr>\n",
       "    <tr>\n",
       "      <th>882</th>\n",
       "      <td>1</td>\n",
       "      <td>0</td>\n",
       "      <td>2</td>\n",
       "      <td>27.0</td>\n",
       "      <td>0</td>\n",
       "      <td>0</td>\n",
       "      <td>13.0000</td>\n",
       "    </tr>\n",
       "    <tr>\n",
       "      <th>883</th>\n",
       "      <td>0</td>\n",
       "      <td>1</td>\n",
       "      <td>1</td>\n",
       "      <td>19.0</td>\n",
       "      <td>0</td>\n",
       "      <td>0</td>\n",
       "      <td>30.0000</td>\n",
       "    </tr>\n",
       "    <tr>\n",
       "      <th>884</th>\n",
       "      <td>0</td>\n",
       "      <td>0</td>\n",
       "      <td>3</td>\n",
       "      <td>7.0</td>\n",
       "      <td>1</td>\n",
       "      <td>2</td>\n",
       "      <td>23.4500</td>\n",
       "    </tr>\n",
       "    <tr>\n",
       "      <th>885</th>\n",
       "      <td>1</td>\n",
       "      <td>1</td>\n",
       "      <td>1</td>\n",
       "      <td>26.0</td>\n",
       "      <td>0</td>\n",
       "      <td>0</td>\n",
       "      <td>30.0000</td>\n",
       "    </tr>\n",
       "    <tr>\n",
       "      <th>886</th>\n",
       "      <td>1</td>\n",
       "      <td>0</td>\n",
       "      <td>3</td>\n",
       "      <td>32.0</td>\n",
       "      <td>0</td>\n",
       "      <td>0</td>\n",
       "      <td>7.7500</td>\n",
       "    </tr>\n",
       "  </tbody>\n",
       "</table>\n",
       "<p>887 rows × 7 columns</p>\n",
       "</div>"
      ],
      "text/plain": [
       "     Sex_male  Survived  Pclass   Age  Siblings/Spouses Aboard  \\\n",
       "0           1         0       3  22.0                        1   \n",
       "1           0         1       1  38.0                        1   \n",
       "2           0         1       3  26.0                        0   \n",
       "3           0         1       1  35.0                        1   \n",
       "4           1         0       3  35.0                        0   \n",
       "..        ...       ...     ...   ...                      ...   \n",
       "882         1         0       2  27.0                        0   \n",
       "883         0         1       1  19.0                        0   \n",
       "884         0         0       3   7.0                        1   \n",
       "885         1         1       1  26.0                        0   \n",
       "886         1         0       3  32.0                        0   \n",
       "\n",
       "     Parents/Children Aboard     Fare  \n",
       "0                          0   7.2500  \n",
       "1                          0  71.2833  \n",
       "2                          0   7.9250  \n",
       "3                          0  53.1000  \n",
       "4                          0   8.0500  \n",
       "..                       ...      ...  \n",
       "882                        0  13.0000  \n",
       "883                        0  30.0000  \n",
       "884                        2  23.4500  \n",
       "885                        0  30.0000  \n",
       "886                        0   7.7500  \n",
       "\n",
       "[887 rows x 7 columns]"
      ]
     },
     "execution_count": 16,
     "metadata": {},
     "output_type": "execute_result"
    }
   ],
   "source": [
    "f_data"
   ]
  },
  {
   "cell_type": "code",
   "execution_count": 17,
   "id": "5f6bc1ec",
   "metadata": {
    "execution": {
     "iopub.execute_input": "2022-02-13T20:58:18.352813Z",
     "iopub.status.busy": "2022-02-13T20:58:18.352245Z",
     "iopub.status.idle": "2022-02-13T20:58:18.355392Z",
     "shell.execute_reply": "2022-02-13T20:58:18.355898Z",
     "shell.execute_reply.started": "2022-02-13T20:57:46.481789Z"
    },
    "papermill": {
     "duration": 0.029936,
     "end_time": "2022-02-13T20:58:18.356019",
     "exception": false,
     "start_time": "2022-02-13T20:58:18.326083",
     "status": "completed"
    },
    "tags": []
   },
   "outputs": [],
   "source": [
    "train = f_data.iloc[:700,:]\n",
    "test = f_data.iloc[700:,:]"
   ]
  },
  {
   "cell_type": "code",
   "execution_count": 18,
   "id": "ef1104a1",
   "metadata": {
    "execution": {
     "iopub.execute_input": "2022-02-13T20:58:18.408969Z",
     "iopub.status.busy": "2022-02-13T20:58:18.408441Z",
     "iopub.status.idle": "2022-02-13T20:58:18.422161Z",
     "shell.execute_reply": "2022-02-13T20:58:18.422659Z",
     "shell.execute_reply.started": "2022-02-13T20:57:46.487902Z"
    },
    "papermill": {
     "duration": 0.041391,
     "end_time": "2022-02-13T20:58:18.422808",
     "exception": false,
     "start_time": "2022-02-13T20:58:18.381417",
     "status": "completed"
    },
    "scrolled": true,
    "tags": []
   },
   "outputs": [
    {
     "data": {
      "text/html": [
       "<div>\n",
       "<style scoped>\n",
       "    .dataframe tbody tr th:only-of-type {\n",
       "        vertical-align: middle;\n",
       "    }\n",
       "\n",
       "    .dataframe tbody tr th {\n",
       "        vertical-align: top;\n",
       "    }\n",
       "\n",
       "    .dataframe thead th {\n",
       "        text-align: right;\n",
       "    }\n",
       "</style>\n",
       "<table border=\"1\" class=\"dataframe\">\n",
       "  <thead>\n",
       "    <tr style=\"text-align: right;\">\n",
       "      <th></th>\n",
       "      <th>Sex_male</th>\n",
       "      <th>Survived</th>\n",
       "      <th>Pclass</th>\n",
       "      <th>Age</th>\n",
       "      <th>Siblings/Spouses Aboard</th>\n",
       "      <th>Parents/Children Aboard</th>\n",
       "      <th>Fare</th>\n",
       "    </tr>\n",
       "  </thead>\n",
       "  <tbody>\n",
       "    <tr>\n",
       "      <th>0</th>\n",
       "      <td>1</td>\n",
       "      <td>0</td>\n",
       "      <td>3</td>\n",
       "      <td>22.0</td>\n",
       "      <td>1</td>\n",
       "      <td>0</td>\n",
       "      <td>7.2500</td>\n",
       "    </tr>\n",
       "    <tr>\n",
       "      <th>1</th>\n",
       "      <td>0</td>\n",
       "      <td>1</td>\n",
       "      <td>1</td>\n",
       "      <td>38.0</td>\n",
       "      <td>1</td>\n",
       "      <td>0</td>\n",
       "      <td>71.2833</td>\n",
       "    </tr>\n",
       "    <tr>\n",
       "      <th>2</th>\n",
       "      <td>0</td>\n",
       "      <td>1</td>\n",
       "      <td>3</td>\n",
       "      <td>26.0</td>\n",
       "      <td>0</td>\n",
       "      <td>0</td>\n",
       "      <td>7.9250</td>\n",
       "    </tr>\n",
       "    <tr>\n",
       "      <th>3</th>\n",
       "      <td>0</td>\n",
       "      <td>1</td>\n",
       "      <td>1</td>\n",
       "      <td>35.0</td>\n",
       "      <td>1</td>\n",
       "      <td>0</td>\n",
       "      <td>53.1000</td>\n",
       "    </tr>\n",
       "    <tr>\n",
       "      <th>4</th>\n",
       "      <td>1</td>\n",
       "      <td>0</td>\n",
       "      <td>3</td>\n",
       "      <td>35.0</td>\n",
       "      <td>0</td>\n",
       "      <td>0</td>\n",
       "      <td>8.0500</td>\n",
       "    </tr>\n",
       "    <tr>\n",
       "      <th>...</th>\n",
       "      <td>...</td>\n",
       "      <td>...</td>\n",
       "      <td>...</td>\n",
       "      <td>...</td>\n",
       "      <td>...</td>\n",
       "      <td>...</td>\n",
       "      <td>...</td>\n",
       "    </tr>\n",
       "    <tr>\n",
       "      <th>695</th>\n",
       "      <td>1</td>\n",
       "      <td>0</td>\n",
       "      <td>1</td>\n",
       "      <td>49.0</td>\n",
       "      <td>1</td>\n",
       "      <td>1</td>\n",
       "      <td>110.8833</td>\n",
       "    </tr>\n",
       "    <tr>\n",
       "      <th>696</th>\n",
       "      <td>1</td>\n",
       "      <td>0</td>\n",
       "      <td>3</td>\n",
       "      <td>42.0</td>\n",
       "      <td>0</td>\n",
       "      <td>0</td>\n",
       "      <td>7.6500</td>\n",
       "    </tr>\n",
       "    <tr>\n",
       "      <th>697</th>\n",
       "      <td>0</td>\n",
       "      <td>1</td>\n",
       "      <td>1</td>\n",
       "      <td>18.0</td>\n",
       "      <td>1</td>\n",
       "      <td>0</td>\n",
       "      <td>227.5250</td>\n",
       "    </tr>\n",
       "    <tr>\n",
       "      <th>698</th>\n",
       "      <td>1</td>\n",
       "      <td>1</td>\n",
       "      <td>1</td>\n",
       "      <td>35.0</td>\n",
       "      <td>0</td>\n",
       "      <td>0</td>\n",
       "      <td>26.2875</td>\n",
       "    </tr>\n",
       "    <tr>\n",
       "      <th>699</th>\n",
       "      <td>0</td>\n",
       "      <td>0</td>\n",
       "      <td>3</td>\n",
       "      <td>18.0</td>\n",
       "      <td>0</td>\n",
       "      <td>1</td>\n",
       "      <td>14.4542</td>\n",
       "    </tr>\n",
       "  </tbody>\n",
       "</table>\n",
       "<p>700 rows × 7 columns</p>\n",
       "</div>"
      ],
      "text/plain": [
       "     Sex_male  Survived  Pclass   Age  Siblings/Spouses Aboard  \\\n",
       "0           1         0       3  22.0                        1   \n",
       "1           0         1       1  38.0                        1   \n",
       "2           0         1       3  26.0                        0   \n",
       "3           0         1       1  35.0                        1   \n",
       "4           1         0       3  35.0                        0   \n",
       "..        ...       ...     ...   ...                      ...   \n",
       "695         1         0       1  49.0                        1   \n",
       "696         1         0       3  42.0                        0   \n",
       "697         0         1       1  18.0                        1   \n",
       "698         1         1       1  35.0                        0   \n",
       "699         0         0       3  18.0                        0   \n",
       "\n",
       "     Parents/Children Aboard      Fare  \n",
       "0                          0    7.2500  \n",
       "1                          0   71.2833  \n",
       "2                          0    7.9250  \n",
       "3                          0   53.1000  \n",
       "4                          0    8.0500  \n",
       "..                       ...       ...  \n",
       "695                        1  110.8833  \n",
       "696                        0    7.6500  \n",
       "697                        0  227.5250  \n",
       "698                        0   26.2875  \n",
       "699                        1   14.4542  \n",
       "\n",
       "[700 rows x 7 columns]"
      ]
     },
     "execution_count": 18,
     "metadata": {},
     "output_type": "execute_result"
    }
   ],
   "source": [
    "train"
   ]
  },
  {
   "cell_type": "code",
   "execution_count": 19,
   "id": "6be705df",
   "metadata": {
    "execution": {
     "iopub.execute_input": "2022-02-13T20:58:18.491643Z",
     "iopub.status.busy": "2022-02-13T20:58:18.490808Z",
     "iopub.status.idle": "2022-02-13T20:58:18.508667Z",
     "shell.execute_reply": "2022-02-13T20:58:18.509319Z",
     "shell.execute_reply.started": "2022-02-13T20:57:46.512380Z"
    },
    "papermill": {
     "duration": 0.057683,
     "end_time": "2022-02-13T20:58:18.509508",
     "exception": false,
     "start_time": "2022-02-13T20:58:18.451825",
     "status": "completed"
    },
    "tags": []
   },
   "outputs": [
    {
     "data": {
      "text/html": [
       "<div>\n",
       "<style scoped>\n",
       "    .dataframe tbody tr th:only-of-type {\n",
       "        vertical-align: middle;\n",
       "    }\n",
       "\n",
       "    .dataframe tbody tr th {\n",
       "        vertical-align: top;\n",
       "    }\n",
       "\n",
       "    .dataframe thead th {\n",
       "        text-align: right;\n",
       "    }\n",
       "</style>\n",
       "<table border=\"1\" class=\"dataframe\">\n",
       "  <thead>\n",
       "    <tr style=\"text-align: right;\">\n",
       "      <th></th>\n",
       "      <th>Sex_male</th>\n",
       "      <th>Survived</th>\n",
       "      <th>Pclass</th>\n",
       "      <th>Age</th>\n",
       "      <th>Siblings/Spouses Aboard</th>\n",
       "      <th>Parents/Children Aboard</th>\n",
       "      <th>Fare</th>\n",
       "    </tr>\n",
       "  </thead>\n",
       "  <tbody>\n",
       "    <tr>\n",
       "      <th>700</th>\n",
       "      <td>1</td>\n",
       "      <td>0</td>\n",
       "      <td>3</td>\n",
       "      <td>25.0</td>\n",
       "      <td>0</td>\n",
       "      <td>0</td>\n",
       "      <td>7.7417</td>\n",
       "    </tr>\n",
       "    <tr>\n",
       "      <th>701</th>\n",
       "      <td>1</td>\n",
       "      <td>0</td>\n",
       "      <td>3</td>\n",
       "      <td>26.0</td>\n",
       "      <td>1</td>\n",
       "      <td>0</td>\n",
       "      <td>7.8542</td>\n",
       "    </tr>\n",
       "    <tr>\n",
       "      <th>702</th>\n",
       "      <td>1</td>\n",
       "      <td>0</td>\n",
       "      <td>2</td>\n",
       "      <td>39.0</td>\n",
       "      <td>0</td>\n",
       "      <td>0</td>\n",
       "      <td>26.0000</td>\n",
       "    </tr>\n",
       "    <tr>\n",
       "      <th>703</th>\n",
       "      <td>0</td>\n",
       "      <td>1</td>\n",
       "      <td>2</td>\n",
       "      <td>45.0</td>\n",
       "      <td>0</td>\n",
       "      <td>0</td>\n",
       "      <td>13.5000</td>\n",
       "    </tr>\n",
       "    <tr>\n",
       "      <th>704</th>\n",
       "      <td>1</td>\n",
       "      <td>1</td>\n",
       "      <td>1</td>\n",
       "      <td>42.0</td>\n",
       "      <td>0</td>\n",
       "      <td>0</td>\n",
       "      <td>26.2875</td>\n",
       "    </tr>\n",
       "    <tr>\n",
       "      <th>...</th>\n",
       "      <td>...</td>\n",
       "      <td>...</td>\n",
       "      <td>...</td>\n",
       "      <td>...</td>\n",
       "      <td>...</td>\n",
       "      <td>...</td>\n",
       "      <td>...</td>\n",
       "    </tr>\n",
       "    <tr>\n",
       "      <th>882</th>\n",
       "      <td>1</td>\n",
       "      <td>0</td>\n",
       "      <td>2</td>\n",
       "      <td>27.0</td>\n",
       "      <td>0</td>\n",
       "      <td>0</td>\n",
       "      <td>13.0000</td>\n",
       "    </tr>\n",
       "    <tr>\n",
       "      <th>883</th>\n",
       "      <td>0</td>\n",
       "      <td>1</td>\n",
       "      <td>1</td>\n",
       "      <td>19.0</td>\n",
       "      <td>0</td>\n",
       "      <td>0</td>\n",
       "      <td>30.0000</td>\n",
       "    </tr>\n",
       "    <tr>\n",
       "      <th>884</th>\n",
       "      <td>0</td>\n",
       "      <td>0</td>\n",
       "      <td>3</td>\n",
       "      <td>7.0</td>\n",
       "      <td>1</td>\n",
       "      <td>2</td>\n",
       "      <td>23.4500</td>\n",
       "    </tr>\n",
       "    <tr>\n",
       "      <th>885</th>\n",
       "      <td>1</td>\n",
       "      <td>1</td>\n",
       "      <td>1</td>\n",
       "      <td>26.0</td>\n",
       "      <td>0</td>\n",
       "      <td>0</td>\n",
       "      <td>30.0000</td>\n",
       "    </tr>\n",
       "    <tr>\n",
       "      <th>886</th>\n",
       "      <td>1</td>\n",
       "      <td>0</td>\n",
       "      <td>3</td>\n",
       "      <td>32.0</td>\n",
       "      <td>0</td>\n",
       "      <td>0</td>\n",
       "      <td>7.7500</td>\n",
       "    </tr>\n",
       "  </tbody>\n",
       "</table>\n",
       "<p>187 rows × 7 columns</p>\n",
       "</div>"
      ],
      "text/plain": [
       "     Sex_male  Survived  Pclass   Age  Siblings/Spouses Aboard  \\\n",
       "700         1         0       3  25.0                        0   \n",
       "701         1         0       3  26.0                        1   \n",
       "702         1         0       2  39.0                        0   \n",
       "703         0         1       2  45.0                        0   \n",
       "704         1         1       1  42.0                        0   \n",
       "..        ...       ...     ...   ...                      ...   \n",
       "882         1         0       2  27.0                        0   \n",
       "883         0         1       1  19.0                        0   \n",
       "884         0         0       3   7.0                        1   \n",
       "885         1         1       1  26.0                        0   \n",
       "886         1         0       3  32.0                        0   \n",
       "\n",
       "     Parents/Children Aboard     Fare  \n",
       "700                        0   7.7417  \n",
       "701                        0   7.8542  \n",
       "702                        0  26.0000  \n",
       "703                        0  13.5000  \n",
       "704                        0  26.2875  \n",
       "..                       ...      ...  \n",
       "882                        0  13.0000  \n",
       "883                        0  30.0000  \n",
       "884                        2  23.4500  \n",
       "885                        0  30.0000  \n",
       "886                        0   7.7500  \n",
       "\n",
       "[187 rows x 7 columns]"
      ]
     },
     "execution_count": 19,
     "metadata": {},
     "output_type": "execute_result"
    }
   ],
   "source": [
    "test"
   ]
  },
  {
   "cell_type": "code",
   "execution_count": 39,
   "id": "78b49f83",
   "metadata": {
    "execution": {
     "iopub.execute_input": "2022-02-13T20:58:18.574840Z",
     "iopub.status.busy": "2022-02-13T20:58:18.574040Z",
     "iopub.status.idle": "2022-02-13T20:58:18.576823Z",
     "shell.execute_reply": "2022-02-13T20:58:18.577205Z",
     "shell.execute_reply.started": "2022-02-13T20:57:46.530139Z"
    },
    "papermill": {
     "duration": 0.035923,
     "end_time": "2022-02-13T20:58:18.577338",
     "exception": false,
     "start_time": "2022-02-13T20:58:18.541415",
     "status": "completed"
    },
    "tags": []
   },
   "outputs": [
    {
     "data": {
      "text/plain": [
       "Sex_male      uint8\n",
       "Pclass        int64\n",
       "Age         float64\n",
       "dtype: object"
      ]
     },
     "metadata": {},
     "output_type": "display_data"
    }
   ],
   "source": [
    "X_train=train.drop(labels='Survived',axis=1)\n",
    "X_train=train.drop(labels='Fare',axis=1)\n",
    "X_train=train.drop(labels='Siblings/Spouses Aboard',axis=1)\n",
    "X_train=train.drop(labels='Parents/Children Aboard',axis=1)\n",
    "\n",
    "y_train=train['Survived']\n",
    "X_train=train.drop(columns=['Survived', 'Siblings/Spouses Aboard', 'Parents/Children Aboard', 'Fare'], axis=1)\n",
    "\n",
    "\n",
    "X_test=test.drop(labels='Survived',axis=1)\n",
    "X_test=train.drop(labels='Fare',axis=1)\n",
    "X_test=train.drop(labels='Siblings/Spouses Aboard',axis=1)\n",
    "X_test=train.drop(labels='Parents/Children Aboard',axis=1)\n",
    "\n",
    "pd.to_numeric(X_train['Age'], downcast='integer')\n",
    "\n",
    "X_train['Age'].astype(int),X_test['Age'].astype(int)\n",
    "display(X_train.dtypes)"
   ]
  },
  {
   "cell_type": "code",
   "execution_count": 41,
   "id": "2f147764",
   "metadata": {},
   "outputs": [
    {
     "data": {
      "text/plain": [
       "array([[1.        , 1.        , 0.2681388 ],\n",
       "       [0.        , 0.        , 0.47003155],\n",
       "       [0.        , 1.        , 0.31861199],\n",
       "       ...,\n",
       "       [0.        , 0.        , 0.21766562],\n",
       "       [1.        , 0.        , 0.43217666],\n",
       "       [0.        , 1.        , 0.21766562]])"
      ]
     },
     "execution_count": 41,
     "metadata": {},
     "output_type": "execute_result"
    }
   ],
   "source": [
    "X_train"
   ]
  },
  {
   "cell_type": "code",
   "execution_count": 42,
   "id": "c017c11a",
   "metadata": {
    "execution": {
     "iopub.execute_input": "2022-02-13T20:58:18.633883Z",
     "iopub.status.busy": "2022-02-13T20:58:18.633043Z",
     "iopub.status.idle": "2022-02-13T20:58:18.738859Z",
     "shell.execute_reply": "2022-02-13T20:58:18.738314Z",
     "shell.execute_reply.started": "2022-02-13T20:57:46.538458Z"
    },
    "papermill": {
     "duration": 0.135101,
     "end_time": "2022-02-13T20:58:18.738999",
     "exception": false,
     "start_time": "2022-02-13T20:58:18.603898",
     "status": "completed"
    },
    "tags": []
   },
   "outputs": [],
   "source": [
    "from sklearn.preprocessing import MinMaxScaler\n",
    "scaler=MinMaxScaler()\n",
    "scaler.fit(X_train)\n",
    "X_train=scaler.transform(X_train)\n",
    "#X_test=scaler.transform(X_test)"
   ]
  },
  {
   "cell_type": "code",
   "execution_count": 43,
   "id": "7c6a53ee",
   "metadata": {
    "execution": {
     "iopub.execute_input": "2022-02-13T20:58:18.797929Z",
     "iopub.status.busy": "2022-02-13T20:58:18.797329Z",
     "iopub.status.idle": "2022-02-13T20:58:18.924231Z",
     "shell.execute_reply": "2022-02-13T20:58:18.923582Z",
     "shell.execute_reply.started": "2022-02-13T20:57:46.552693Z"
    },
    "papermill": {
     "duration": 0.158062,
     "end_time": "2022-02-13T20:58:18.924354",
     "exception": false,
     "start_time": "2022-02-13T20:58:18.766292",
     "status": "completed"
    },
    "tags": []
   },
   "outputs": [
    {
     "data": {
      "text/plain": [
       "LogisticRegression()"
      ]
     },
     "execution_count": 43,
     "metadata": {},
     "output_type": "execute_result"
    }
   ],
   "source": [
    "from sklearn.linear_model import LogisticRegression\n",
    "logmodel=LogisticRegression()\n",
    "logmodel.fit(X_train,y_train)\n",
    "#y_pred=logmodel.predict(X_test)\n",
    "#y_pred.reshape(187,1)"
   ]
  },
  {
   "cell_type": "code",
   "execution_count": 29,
   "id": "07907748",
   "metadata": {},
   "outputs": [
    {
     "name": "stdout",
     "output_type": "stream",
     "text": [
      "[[1 2 3 4 5 6]]\n",
      "[0]\n"
     ]
    }
   ],
   "source": [
    "features = np.array([[1, 2,3,4,5,6]])\n",
    "y_pred1=logmodel.predict(features)\n",
    "print(features)\n",
    "print(y_pred1)"
   ]
  },
  {
   "cell_type": "code",
   "execution_count": 44,
   "id": "2bb53686",
   "metadata": {},
   "outputs": [],
   "source": [
    "import pickle\n",
    "filename = '../model/finalized_model.pkl'\n",
    "pickle.dump(logmodel, open(filename, 'wb'))"
   ]
  }
 ],
 "metadata": {
  "kernelspec": {
   "display_name": "Python 3",
   "language": "python",
   "name": "python3"
  },
  "language_info": {
   "codemirror_mode": {
    "name": "ipython",
    "version": 3
   },
   "file_extension": ".py",
   "mimetype": "text/x-python",
   "name": "python",
   "nbconvert_exporter": "python",
   "pygments_lexer": "ipython3",
   "version": "3.8.5"
  },
  "papermill": {
   "default_parameters": {},
   "duration": 11.762821,
   "end_time": "2022-02-13T20:58:19.560242",
   "environment_variables": {},
   "exception": null,
   "input_path": "__notebook__.ipynb",
   "output_path": "__notebook__.ipynb",
   "parameters": {},
   "start_time": "2022-02-13T20:58:07.797421",
   "version": "2.3.3"
  }
 },
 "nbformat": 4,
 "nbformat_minor": 5
}
